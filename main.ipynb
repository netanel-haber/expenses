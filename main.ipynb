{
 "cells": [
  {
   "cell_type": "code",
   "execution_count": 27,
   "metadata": {},
   "outputs": [],
   "source": [
    "DIRECT = \"דירקט\"\n",
    "DIRECT_BATCHED = \"דירקט- מצטבר\"\n",
    "CREDIT_CARD = \"מקס איט פיננסי\"\n",
    "SALARY = \"משכורת\"\n",
    "SALARY_NET = \"משכורת-נט\"\n",
    "BIT = \"bit העברת כסף\"\n",
    "UNEMPLOYMENT = \"בטוח לאומי חד\"\n",
    "IB = \"אינטראקטיב ברוקרס אל אל\"\n",
    "\n",
    "from enum import Enum\n",
    "\n",
    "\n",
    "class Col(str, Enum):\n",
    "    Date = \"Date\"\n",
    "    Balance = \"Balance\"\n",
    "    Minus = \"Minus\"\n",
    "    Plus = \"Plus\"\n",
    "    For = \"For\"\n",
    "    Action = \"Action\"\n",
    "    Origin = \"Origin\"\n",
    "    Executor = \"Executor\""
   ]
  },
  {
   "cell_type": "code",
   "execution_count": 28,
   "metadata": {},
   "outputs": [
    {
     "ename": "NameError",
     "evalue": "name 'RENT' is not defined",
     "output_type": "error",
     "traceback": [
      "\u001b[0;31m---------------------------------------------------------------------------\u001b[0m",
      "\u001b[0;31mNameError\u001b[0m                                 Traceback (most recent call last)",
      "Cell \u001b[0;32mIn [28], line 20\u001b[0m\n\u001b[1;32m      7\u001b[0m     \u001b[39mreturn\u001b[39;00m df\u001b[39m.\u001b[39mreplace(\u001b[39mrf\u001b[39m\u001b[39m\"\u001b[39m\u001b[39m(^.*\u001b[39m\u001b[39m{\u001b[39;00mterm\u001b[39m}\u001b[39;00m\u001b[39m.*$)\u001b[39m\u001b[39m\"\u001b[39m, to)\n\u001b[1;32m     10\u001b[0m df\u001b[39m.\u001b[39mloc[df[\u001b[39m\"\u001b[39m\u001b[39mExecutor\u001b[39m\u001b[39m\"\u001b[39m] \u001b[39m==\u001b[39m IB, \u001b[39m\"\u001b[39m\u001b[39mAction\u001b[39m\u001b[39m\"\u001b[39m] \u001b[39m=\u001b[39m \u001b[39m\"\u001b[39m\u001b[39mIB\u001b[39m\u001b[39m\"\u001b[39m\n\u001b[1;32m     12\u001b[0m df \u001b[39m=\u001b[39m df\u001b[39m.\u001b[39mreplace(\n\u001b[1;32m     13\u001b[0m     {\n\u001b[1;32m     14\u001b[0m         DIRECT: \u001b[39m\"\u001b[39m\u001b[39mdirect\u001b[39m\u001b[39m\"\u001b[39m,\n\u001b[1;32m     15\u001b[0m         DIRECT_BATCHED: \u001b[39m\"\u001b[39m\u001b[39mdirect - batched\u001b[39m\u001b[39m\"\u001b[39m,\n\u001b[1;32m     16\u001b[0m         CREDIT_CARD: \u001b[39m\"\u001b[39m\u001b[39mcredit card\u001b[39m\u001b[39m\"\u001b[39m,\n\u001b[1;32m     17\u001b[0m         SALARY: \u001b[39m\"\u001b[39m\u001b[39msalary\u001b[39m\u001b[39m\"\u001b[39m,\n\u001b[1;32m     18\u001b[0m         SALARY_NET: \u001b[39m\"\u001b[39m\u001b[39msalary\u001b[39m\u001b[39m\"\u001b[39m,\n\u001b[1;32m     19\u001b[0m         BIT: \u001b[39m\"\u001b[39m\u001b[39mbit\u001b[39m\u001b[39m\"\u001b[39m,\n\u001b[0;32m---> 20\u001b[0m         RENT: \u001b[39m\"\u001b[39m\u001b[39mrent\u001b[39m\u001b[39m\"\u001b[39m,\n\u001b[1;32m     21\u001b[0m         UNEMPLOYMENT: \u001b[39m\"\u001b[39m\u001b[39munemployment\u001b[39m\u001b[39m\"\u001b[39m,\n\u001b[1;32m     22\u001b[0m         IB: \u001b[39m\"\u001b[39m\u001b[39mIB\u001b[39m\u001b[39m\"\u001b[39m,\n\u001b[1;32m     23\u001b[0m     }\n\u001b[1;32m     24\u001b[0m )\n\u001b[1;32m     25\u001b[0m df \u001b[39m=\u001b[39m find_sub_replace_all(df, \u001b[39m\"\u001b[39m\u001b[39mשכר דירה\u001b[39m\u001b[39m\"\u001b[39m, \u001b[39m\"\u001b[39m\u001b[39mrent\u001b[39m\u001b[39m\"\u001b[39m)\n\u001b[1;32m     29\u001b[0m df\u001b[39m.\u001b[39mto_csv(\u001b[39m\"\u001b[39m\u001b[39mbalance-transformed.csv\u001b[39m\u001b[39m\"\u001b[39m)\n",
      "\u001b[0;31mNameError\u001b[0m: name 'RENT' is not defined"
     ]
    }
   ],
   "source": [
    "import pandas as pd\n",
    "\n",
    "df = pd.read_csv(\"balance.csv\")\n",
    "\n",
    "\n",
    "def find_sub_replace_all(df, term, to):\n",
    "    return df.replace(rf\"(^.*{term}.*$)\", to)\n",
    "\n",
    "\n",
    "df.loc[df[\"Executor\"] == IB, \"Action\"] = \"IB\"\n",
    "\n",
    "df = df.replace(\n",
    "    {\n",
    "        DIRECT: \"direct\",\n",
    "        DIRECT_BATCHED: \"direct - batched\",\n",
    "        CREDIT_CARD: \"credit card\",\n",
    "        SALARY: \"salary\",\n",
    "        SALARY_NET: \"salary\",\n",
    "        BIT: \"bit\",\n",
    "        RENT: \"rent\",\n",
    "        UNEMPLOYMENT: \"unemployment\",\n",
    "        IB: \"IB\",\n",
    "    }\n",
    ")\n",
    "df = find_sub_replace_all(df, \"שכר דירה\", \"rent\")\n",
    "\n",
    "\n",
    "\n",
    "df.to_csv(\"balance-transformed.csv\")"
   ]
  },
  {
   "cell_type": "code",
   "execution_count": 57,
   "metadata": {},
   "outputs": [],
   "source": [
    "df.to_csv(\"balance-transformed.csv\")"
   ]
  }
 ],
 "metadata": {
  "kernelspec": {
   "display_name": "Python 3.8.13 ('.venv': poetry)",
   "language": "python",
   "name": "python3"
  },
  "language_info": {
   "codemirror_mode": {
    "name": "ipython",
    "version": 3
   },
   "file_extension": ".py",
   "mimetype": "text/x-python",
   "name": "python",
   "nbconvert_exporter": "python",
   "pygments_lexer": "ipython3",
   "version": "3.11.0"
  },
  "orig_nbformat": 4,
  "vscode": {
   "interpreter": {
    "hash": "12dc627ca07efa6bb550929f4ea3159daec7767a561bb7c882a0e7c844ce4f05"
   }
  }
 },
 "nbformat": 4,
 "nbformat_minor": 2
}
